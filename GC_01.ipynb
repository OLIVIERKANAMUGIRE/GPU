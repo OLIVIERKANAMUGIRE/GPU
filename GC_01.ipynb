{
  "nbformat": 4,
  "nbformat_minor": 0,
  "metadata": {
    "colab": {
      "provenance": [],
      "gpuType": "T4"
    },
    "kernelspec": {
      "name": "python3",
      "display_name": "Python 3"
    },
    "language_info": {
      "name": "python"
    },
    "accelerator": "GPU"
  },
  "cells": [
    {
      "cell_type": "markdown",
      "source": [
        "**GPU COMPUTING EXERCISE 1**\n",
        "\n",
        "Author: Olivier Kanamugire\n",
        "\n",
        "Date : January 08, 2024."
      ],
      "metadata": {
        "id": "FH27emCidWYi"
      }
    },
    {
      "cell_type": "markdown",
      "source": [
        "**Task 1.**\n",
        "Create a custom kernel which takes an empty vector as an input and each thread writes its thread index to the empty vector that is provided to the kernel.\n",
        "\n",
        "So we would input a vector of zeroes:\n",
        "\n",
        "[0, 0, 0, 0, 0, 0, ...]\n",
        "\n",
        "And the output would be a vector with:\n",
        "\n",
        "[0, 1, 2, 3, 4, 5, ...]"
      ],
      "metadata": {
        "id": "bS9_mWFrdw9a"
      }
    },
    {
      "cell_type": "markdown",
      "source": [
        "**Explanation of implementation**\n",
        "\n",
        "We begin by importing cupy library to manipulate arrays on GPU. Second, we define the kernel function. There are three ypes of kernes of whichh Raw kernel was used [see documentation](https://docs.cupy.dev/en/stable/user_guide/kernel.html). We then initialize the arguments aand lauch our kernel\n"
      ],
      "metadata": {
        "id": "izQ_W4zMesYd"
      }
    },
    {
      "cell_type": "code",
      "source": [
        "import cupy as cp\n",
        "\n",
        "MyRawKernel = \"\"\"\n",
        "extern \"C\" __global__\n",
        "void write_thread_index(int* input_vector) {\n",
        "    int thread_index = blockIdx.x * blockDim.x + threadIdx.x;\n",
        "    input_vector[thread_index] = thread_index;\n",
        "}\n",
        "\"\"\"\n",
        "\n",
        "write_thread_index_kernel = cp.RawKernel(MyRawKernel, 'write_thread_index')\n",
        "\n"
      ],
      "metadata": {
        "id": "vDiSyPDBdV-8"
      },
      "execution_count": 2,
      "outputs": []
    },
    {
      "cell_type": "code",
      "execution_count": 4,
      "metadata": {
        "id": "4hObd2vIdNij",
        "colab": {
          "base_uri": "https://localhost:8080/"
        },
        "outputId": "c2af2c86-76f3-4961-86fc-ff6e966b7c4e"
      },
      "outputs": [
        {
          "output_type": "stream",
          "name": "stdout",
          "text": [
            "[0 1 2 3 4 5 6 7 8 9]\n"
          ]
        }
      ],
      "source": [
        "#Initializing the argumments\n",
        "\n",
        "input_vector = cp.zeros(10, dtype=cp.int32)\n",
        "threads_per_block = 256\n",
        "blocks_per_grid = (input_vector.size + threads_per_block - 1) // threads_per_block\n",
        "\n",
        "write_thread_index_kernel((blocks_per_grid,), (threads_per_block,), (input_vector,))  # launch the kernel\n",
        "\n",
        "\n",
        "print(input_vector)"
      ]
    },
    {
      "cell_type": "markdown",
      "source": [
        "**Task 2.**\n",
        "Implement a kernel which takes two vectors A and B and adds them together to form a vector C.\n",
        "\n",
        "\n",
        "\n"
      ],
      "metadata": {
        "id": "7-brE2hheXvt"
      }
    },
    {
      "cell_type": "markdown",
      "source": [
        "**Explanation of implementation**\n",
        "Here we are going to use Elementwise kernel. It is simple and suitable for this task."
      ],
      "metadata": {
        "id": "JouyRUtlenVT"
      }
    },
    {
      "cell_type": "code",
      "source": [
        "addition_kernel = cp.ElementwiseKernel(\n",
        "    'float32 a, float32 b',\n",
        "    'float32 c',\n",
        "    'c = a + b',\n",
        "    'addition_kernel'\n",
        ")\n"
      ],
      "metadata": {
        "id": "fzhg8eF7ekoa"
      },
      "execution_count": 10,
      "outputs": []
    },
    {
      "cell_type": "markdown",
      "source": [
        "Lets define two vectors A and B, the inputs to the kernel."
      ],
      "metadata": {
        "id": "ALlQJWbV7MtO"
      }
    },
    {
      "cell_type": "code",
      "source": [
        "A = cp.arange(10, dtype=cp.float32)\n",
        "B = cp.arange(10, dtype=cp.float32)\n",
        "\n",
        "addition_kernel(A, B)\n",
        "print(C)"
      ],
      "metadata": {
        "id": "glXSPVKxeyY1",
        "colab": {
          "base_uri": "https://localhost:8080/"
        },
        "outputId": "116695e5-aad4-4108-dc91-76a9b6742440"
      },
      "execution_count": 11,
      "outputs": [
        {
          "output_type": "stream",
          "name": "stdout",
          "text": [
            "[ 0.  2.  4.  6.  8. 10. 12. 14. 16. 18.]\n"
          ]
        }
      ]
    },
    {
      "cell_type": "markdown",
      "source": [
        "**Task 3.** Implement a kernel which takes in vectors A and B and C and adds A and B together and multiplies the resulting vector values with the values from C to form a vector D."
      ],
      "metadata": {
        "id": "HIyDJUESezEF"
      }
    },
    {
      "cell_type": "markdown",
      "source": [
        "**Explanation of implementation**\n",
        "\n",
        "We can use elementwise kernel too. Its the same as the above, the difference is kernel operation. We specify the data types of the input arguments (a, b, c) and the output argument (d) as float32. Kernel Operation: The 'd = (a + b) * c' expression defines the operation performed by the kernel on each element of the input arrays. It adds a and b, and then multiplies the result by c, storing the final value in d."
      ],
      "metadata": {
        "id": "_lvbBRRLe66-"
      }
    },
    {
      "cell_type": "code",
      "source": [
        "multiply_add_kernel = cp.ElementwiseKernel(\n",
        "    'float32 a, float32 b, float32 c',\n",
        "    'float32 d',\n",
        "    'd = (a + b) * c',\n",
        "    'multiply_add_kernel'\n",
        ")\n"
      ],
      "metadata": {
        "id": "MbE_bnfAe5Hh"
      },
      "execution_count": 12,
      "outputs": []
    },
    {
      "cell_type": "code",
      "source": [
        "# Example usage\n",
        "\n",
        "A = cp.arange(10, dtype=cp.float32)\n",
        "B = cp.arange(10, dtype=cp.float32)\n",
        "C = cp.arange(10, dtype=cp.float32)\n",
        "\n",
        "D = multiply_add_kernel(A, B, C) # kernel execution\n",
        "\n",
        "print(D)"
      ],
      "metadata": {
        "id": "OEQOxnAse54Q",
        "colab": {
          "base_uri": "https://localhost:8080/"
        },
        "outputId": "40d1d591-8414-4183-c700-53c4ca82855e"
      },
      "execution_count": 14,
      "outputs": [
        {
          "output_type": "stream",
          "name": "stdout",
          "text": [
            "[  0.   2.   8.  18.  32.  50.  72.  98. 128. 162.]\n"
          ]
        }
      ]
    },
    {
      "cell_type": "code",
      "source": [],
      "metadata": {
        "id": "3XCfRqCm-vuX"
      },
      "execution_count": null,
      "outputs": []
    }
  ]
}